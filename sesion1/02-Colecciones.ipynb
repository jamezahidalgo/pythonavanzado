{
 "cells": [
  {
   "cell_type": "markdown",
   "metadata": {},
   "source": [
    "# Colecciones en Python\n",
    "\n",
    "Distinguir entre el uso de listas, tuplas, diccionarios "
   ]
  },
  {
   "cell_type": "markdown",
   "metadata": {},
   "source": [
    "## Listas\n",
    "Se distinguen por []"
   ]
  },
  {
   "cell_type": "code",
   "execution_count": 1,
   "metadata": {},
   "outputs": [
    {
     "data": {
      "text/plain": [
       "['Pedro', 'Miguelina', 'Fernando', 'Josefina']"
      ]
     },
     "execution_count": 1,
     "metadata": {},
     "output_type": "execute_result"
    }
   ],
   "source": [
    "lst_x = ['Pedro', 'Miguelina', 'Fernando', 'Josefina']\n",
    "lst_x"
   ]
  },
  {
   "cell_type": "code",
   "execution_count": 2,
   "metadata": {},
   "outputs": [
    {
     "data": {
      "text/plain": [
       "[25, 45, 29, 15, 30, 6]"
      ]
     },
     "execution_count": 2,
     "metadata": {},
     "output_type": "execute_result"
    }
   ],
   "source": [
    "lst_y = [25,45,29,15,30,6]\n",
    "lst_y"
   ]
  },
  {
   "cell_type": "code",
   "execution_count": 4,
   "metadata": {},
   "outputs": [
    {
     "data": {
      "text/plain": [
       "['Pedro', 25, 'Miguelina', 56, 'Fernando', 45, 'Josefina', 49.3, False]"
      ]
     },
     "execution_count": 4,
     "metadata": {},
     "output_type": "execute_result"
    }
   ],
   "source": [
    "lst_z = ['Pedro', 25, 'Miguelina', 56, 'Fernando', 45, 'Josefina', 49.3, False]\n",
    "lst_z"
   ]
  },
  {
   "cell_type": "code",
   "execution_count": 5,
   "metadata": {},
   "outputs": [
    {
     "data": {
      "text/plain": [
       "['Pedro', 'Miguelina']"
      ]
     },
     "execution_count": 5,
     "metadata": {},
     "output_type": "execute_result"
    }
   ],
   "source": [
    "lst_x[0:2]"
   ]
  },
  {
   "cell_type": "code",
   "execution_count": 7,
   "metadata": {},
   "outputs": [
    {
     "data": {
      "text/plain": [
       "[29, 15, 30, 6]"
      ]
     },
     "execution_count": 7,
     "metadata": {},
     "output_type": "execute_result"
    }
   ],
   "source": [
    "lst_y[2:5]"
   ]
  },
  {
   "cell_type": "code",
   "execution_count": 8,
   "metadata": {},
   "outputs": [
    {
     "data": {
      "text/plain": [
       "[56, 'Fernando', 45, 'Josefina', 49.3, False]"
      ]
     },
     "execution_count": 8,
     "metadata": {},
     "output_type": "execute_result"
    }
   ],
   "source": [
    "lst_z[3:890]"
   ]
  },
  {
   "cell_type": "code",
   "execution_count": 23,
   "metadata": {},
   "outputs": [
    {
     "name": "stdout",
     "output_type": "stream",
     "text": [
      "1: ['a', 'e']\n",
      "2: 3\n",
      "3: [3, 4, 5]\n",
      "3: ['o', 'u']\n"
     ]
    }
   ],
   "source": [
    "lst_y = ['a','e','i','o','u',1,2,3,4,5]\n",
    "print(\"1:\", lst_y[:2])\n",
    "print(\"2:\", lst_y[-3])\n",
    "print(\"3:\", lst_y[-3:])\n",
    "print(\"3:\", lst_y[3:5])"
   ]
  },
  {
   "cell_type": "code",
   "execution_count": 10,
   "metadata": {},
   "outputs": [
    {
     "data": {
      "text/plain": [
       "['Pedro', 25, 'Miguelina', 56, 'Fernando', 45, 'Josefina', 49.3, False, 89]"
      ]
     },
     "execution_count": 10,
     "metadata": {},
     "output_type": "execute_result"
    }
   ],
   "source": [
    "# Agregar elementos a la lista\n",
    "lst_z = lst_z + [89]\n",
    "lst_z"
   ]
  },
  {
   "cell_type": "code",
   "execution_count": 16,
   "metadata": {},
   "outputs": [
    {
     "name": "stdout",
     "output_type": "stream",
     "text": [
      "Inicial :  [2, 15, 3]\n",
      "Final   :  [2, 15, 3, 2, 15, 3]\n"
     ]
    }
   ],
   "source": [
    "lst_w = [2,15,3]\n",
    "print(\"Inicial : \", lst_w)\n",
    "lst_w = lst_w * 2\n",
    "print(\"Final   : \", lst_w)"
   ]
  },
  {
   "cell_type": "code",
   "execution_count": 18,
   "metadata": {},
   "outputs": [
    {
     "name": "stdout",
     "output_type": "stream",
     "text": [
      "6\n"
     ]
    }
   ],
   "source": [
    "print(len(lst_w))"
   ]
  },
  {
   "cell_type": "code",
   "execution_count": 19,
   "metadata": {},
   "outputs": [
    {
     "data": {
      "text/plain": [
       "[2, 15, 3, 2]"
      ]
     },
     "execution_count": 19,
     "metadata": {},
     "output_type": "execute_result"
    }
   ],
   "source": [
    "# Eliminación de elementos\n",
    "del(lst_w[len(lst_w)-2:])\n",
    "lst_w"
   ]
  },
  {
   "cell_type": "code",
   "execution_count": 27,
   "metadata": {},
   "outputs": [
    {
     "name": "stdout",
     "output_type": "stream",
     "text": [
      "x inicial =  ['a', 'b', 'c']\n",
      "y inicial =  ['a', 'b', 'c']\n",
      "x final =  ['a', 'b', 'd']\n",
      "y final =  ['a', 'b', 'd']\n"
     ]
    }
   ],
   "source": [
    "# Referencias\n",
    "x = [\"a\", \"b\", \"c\"]\n",
    "y = x\n",
    "print(\"x inicial = \", x)\n",
    "print(\"y inicial = \", y)\n",
    "x[2] = 'd'\n",
    "print(\"x final = \", x)\n",
    "print(\"y final = \", y)"
   ]
  },
  {
   "cell_type": "code",
   "execution_count": 28,
   "metadata": {},
   "outputs": [
    {
     "name": "stdout",
     "output_type": "stream",
     "text": [
      "x inicial =  ['a', 'b', 'd']\n",
      "y inicial =  ['a', 'b', 'd']\n",
      "x final =  ['a', 'e', 'd']\n",
      "y final =  ['a', 'e', 'd']\n"
     ]
    }
   ],
   "source": [
    "# Ahora se realizan cambios en y\n",
    "print(\"x inicial = \", x)\n",
    "print(\"y inicial = \", y)\n",
    "y[1] = 'e'\n",
    "print(\"x final = \", x)\n",
    "print(\"y final = \", y)"
   ]
  },
  {
   "cell_type": "code",
   "execution_count": 29,
   "metadata": {},
   "outputs": [
    {
     "name": "stdout",
     "output_type": "stream",
     "text": [
      "x inicial =  ['a', 'b', 'c']\n",
      "y inicial =  ['a', 'b', 'c']\n",
      "x final =  ['a', 'b', 'c']\n",
      "y final =  ['a', 'f', 'c']\n"
     ]
    }
   ],
   "source": [
    "x = [\"a\", \"b\", \"c\"]\n",
    "y = list(x)\n",
    "print(\"x inicial = \", x)\n",
    "print(\"y inicial = \", y)\n",
    "y[1] = \"f\"\n",
    "print(\"x final = \", x)\n",
    "print(\"y final = \", y)"
   ]
  },
  {
   "cell_type": "markdown",
   "metadata": {},
   "source": [
    "## Tuplas\n",
    "Se distinguen por () y son listas inmutables"
   ]
  },
  {
   "cell_type": "code",
   "execution_count": 30,
   "metadata": {},
   "outputs": [
    {
     "data": {
      "text/plain": [
       "(10, 15, 3)"
      ]
     },
     "execution_count": 30,
     "metadata": {},
     "output_type": "execute_result"
    }
   ],
   "source": [
    "tx = (10, 15, 3)\n",
    "tx"
   ]
  },
  {
   "cell_type": "code",
   "execution_count": 31,
   "metadata": {},
   "outputs": [
    {
     "data": {
      "text/plain": [
       "('aire', 90, 'a', True)"
      ]
     },
     "execution_count": 31,
     "metadata": {},
     "output_type": "execute_result"
    }
   ],
   "source": [
    "ty = (\"aire\", 90, 'a', True)\n",
    "ty"
   ]
  },
  {
   "cell_type": "code",
   "execution_count": 32,
   "metadata": {},
   "outputs": [
    {
     "data": {
      "text/plain": [
       "1"
      ]
     },
     "execution_count": 32,
     "metadata": {},
     "output_type": "execute_result"
    }
   ],
   "source": [
    "tz = 29,\n",
    "len(tz)"
   ]
  },
  {
   "cell_type": "code",
   "execution_count": 35,
   "metadata": {},
   "outputs": [
    {
     "data": {
      "text/plain": [
       "('a', 'e', 'i', 15, 9, 3)"
      ]
     },
     "execution_count": 35,
     "metadata": {},
     "output_type": "execute_result"
    }
   ],
   "source": [
    "ta = ('a', 'e', 'i')\n",
    "tb = (15,9,3)\n",
    "ta + tb"
   ]
  },
  {
   "cell_type": "code",
   "execution_count": 36,
   "metadata": {},
   "outputs": [
    {
     "data": {
      "text/plain": [
       "('a', 'e', 'i', 'a', 'e', 'i', 'a', 'e', 'i')"
      ]
     },
     "execution_count": 36,
     "metadata": {},
     "output_type": "execute_result"
    }
   ],
   "source": [
    "ta*3"
   ]
  },
  {
   "cell_type": "code",
   "execution_count": 37,
   "metadata": {},
   "outputs": [
    {
     "data": {
      "text/plain": [
       "True"
      ]
     },
     "execution_count": 37,
     "metadata": {},
     "output_type": "execute_result"
    }
   ],
   "source": [
    "tx = (15,12,4)\n",
    "ty = (25,15,8)\n",
    "tx < ty"
   ]
  },
  {
   "cell_type": "markdown",
   "metadata": {},
   "source": [
    "## Conjuntos\n",
    "Se denotan por {}"
   ]
  },
  {
   "cell_type": "code",
   "execution_count": 39,
   "metadata": {},
   "outputs": [
    {
     "data": {
      "text/plain": [
       "{29, False, True, 'a', 'aire'}"
      ]
     },
     "execution_count": 39,
     "metadata": {},
     "output_type": "execute_result"
    }
   ],
   "source": [
    "cx = {True, 'a', \"aire\", 29, 29 < 10, 20 % 2 == 0 }\n",
    "cx"
   ]
  },
  {
   "cell_type": "code",
   "execution_count": 43,
   "metadata": {},
   "outputs": [
    {
     "name": "stdout",
     "output_type": "stream",
     "text": [
      "1:  <class 'set'>\n",
      "2:  True\n",
      "3:  False\n"
     ]
    }
   ],
   "source": [
    "print(\"1: \", type(cx))\n",
    "print(\"2: \", 29 in cx)\n",
    "print(\"3: \", 29 not in cx)"
   ]
  },
  {
   "cell_type": "code",
   "execution_count": 44,
   "metadata": {},
   "outputs": [
    {
     "data": {
      "text/plain": [
       "{25, 29, False, True, 'a', 'aire'}"
      ]
     },
     "execution_count": 44,
     "metadata": {},
     "output_type": "execute_result"
    }
   ],
   "source": [
    "cx.add(25)\n",
    "cx"
   ]
  },
  {
   "cell_type": "code",
   "execution_count": 46,
   "metadata": {},
   "outputs": [
    {
     "data": {
      "text/plain": [
       "{15, 25, 29, 73, False, True, 'a', 'aire', 'b'}"
      ]
     },
     "execution_count": 46,
     "metadata": {},
     "output_type": "execute_result"
    }
   ],
   "source": [
    "cx.update([15,73,'b'])\n",
    "cx"
   ]
  },
  {
   "cell_type": "code",
   "execution_count": 52,
   "metadata": {},
   "outputs": [
    {
     "name": "stdout",
     "output_type": "stream",
     "text": [
      "cx antes :  {'aire', 'a', 1, 'cocina', 26, 29}\n",
      "cx despues :  {'aire', 1, 'cocina', 26, 29}\n"
     ]
    }
   ],
   "source": [
    "cx = {'a', \"aire\", \"cocina\", 26, 29, 1}\n",
    "print(\"cx antes : \", cx)\n",
    "cx.remove('a')\n",
    "print(\"cx despues : \", cx)"
   ]
  },
  {
   "cell_type": "code",
   "execution_count": 53,
   "metadata": {},
   "outputs": [
    {
     "name": "stdout",
     "output_type": "stream",
     "text": [
      "cx antes :  {'aire', 'a', 1, 'cocina', 26, 29}\n",
      "cx despues :  {'aire', 'a', 1, 'cocina', 26, 29}\n"
     ]
    }
   ],
   "source": [
    "# Respecto del método remove() la consideración que se debe tener es que si el elemento no existe marca error\n",
    "cx = {'a', \"aire\", \"cocina\", 26, 29, 1}\n",
    "print(\"cx antes : \", cx)\n",
    "cx.discard('b')\n",
    "print(\"cx despues : \", cx)"
   ]
  },
  {
   "cell_type": "markdown",
   "metadata": {},
   "source": [
    "## Diccionarios\n",
    "Definen una relación de uno a uno entre <clave, valor>"
   ]
  },
  {
   "cell_type": "code",
   "execution_count": 54,
   "metadata": {},
   "outputs": [
    {
     "name": "stdout",
     "output_type": "stream",
     "text": [
      "Dr. Strange tiene nota 7\n",
      "Capitan América: civil war tiene nota 6\n",
      "Avengers: la era de ultron tiene nota 8\n",
      "Avengers: end game tiene nota 10\n",
      "Pantera negra tiene nota 9\n"
     ]
    }
   ],
   "source": [
    "peliculas = {'Dr. Strange': 7, 'Capitan América: civil war': 6, \n",
    "             'Avengers: la era de ultron': 8, 'Avengers: end game': 10, 'Pantera negra': 9}\n",
    "for nombre, nota in peliculas.items():\n",
    "    print(nombre, \"tiene nota\", nota)"
   ]
  },
  {
   "cell_type": "code",
   "execution_count": 56,
   "metadata": {},
   "outputs": [
    {
     "name": "stdout",
     "output_type": "stream",
     "text": [
      "Dr. Strange tiene nota 7\n",
      "Capitan América: civil war tiene nota 6\n",
      "Avengers: la era de ultron tiene nota 8\n",
      "Avengers: end game tiene nota 10\n",
      "Pantera negra tiene nota 9\n"
     ]
    }
   ],
   "source": [
    "for nombre in peliculas:\n",
    "    print(nombre, 'tiene nota', peliculas[nombre])\n"
   ]
  },
  {
   "cell_type": "code",
   "execution_count": 57,
   "metadata": {},
   "outputs": [
    {
     "data": {
      "text/plain": [
       "{'Dr. Strange': 7,\n",
       " 'Capitan América: civil war': 6,\n",
       " 'Avengers: la era de ultron': 8,\n",
       " 'Avengers: end game': 10,\n",
       " 'Pantera negra': 9,\n",
       " 'Capitan América, soldado de invierno': 9}"
      ]
     },
     "execution_count": 57,
     "metadata": {},
     "output_type": "execute_result"
    }
   ],
   "source": [
    "# Agrega un elemento al diccionario\n",
    "peliculas['Capitan América, soldado de invierno'] = 9\n",
    "peliculas"
   ]
  },
  {
   "cell_type": "code",
   "execution_count": 58,
   "metadata": {},
   "outputs": [
    {
     "data": {
      "text/plain": [
       "True"
      ]
     },
     "execution_count": 58,
     "metadata": {},
     "output_type": "execute_result"
    }
   ],
   "source": [
    "\"Dr. Strange\" in peliculas"
   ]
  },
  {
   "cell_type": "code",
   "execution_count": 63,
   "metadata": {},
   "outputs": [
    {
     "data": {
      "text/plain": [
       "{'P15': 50000, 'P73': 76000, 'P3': 4000}"
      ]
     },
     "execution_count": 63,
     "metadata": {},
     "output_type": "execute_result"
    }
   ],
   "source": [
    "precios = dict(P15=50000, P73=76000, P3=4000)\n",
    "precios"
   ]
  },
  {
   "cell_type": "code",
   "execution_count": 64,
   "metadata": {},
   "outputs": [
    {
     "data": {
      "text/plain": [
       "{}"
      ]
     },
     "execution_count": 64,
     "metadata": {},
     "output_type": "execute_result"
    }
   ],
   "source": [
    "precios.clear()\n",
    "precios"
   ]
  },
  {
   "cell_type": "code",
   "execution_count": 67,
   "metadata": {},
   "outputs": [
    {
     "name": "stdout",
     "output_type": "stream",
     "text": [
      "1: 9\n",
      "2: dict_keys(['Dr. Strange', 'Capitan América: civil war', 'Avengers: la era de ultron', 'Avengers: end game', 'Pantera negra', 'Capitan América, soldado de invierno'])\n",
      "3: dict_values([7, 6, 8, 10, 9, 9])\n"
     ]
    }
   ],
   "source": [
    "print(\"1:\", peliculas.get(\"Pantera negra\"))\n",
    "print(\"2:\", peliculas.keys())\n",
    "print(\"3:\", peliculas.values())"
   ]
  },
  {
   "cell_type": "code",
   "execution_count": 68,
   "metadata": {},
   "outputs": [
    {
     "data": {
      "text/plain": [
       "{'HONORATO': None, 'WANDA': None, 'BEYONCE': None, 'LAURA': None}"
      ]
     },
     "execution_count": 68,
     "metadata": {},
     "output_type": "execute_result"
    }
   ],
   "source": [
    "estudiantes = ('HONORATO','WANDA','BEYONCE','LAURA')\n",
    "d_estudiantes = dict.fromkeys(estudiantes)\n",
    "d_estudiantes"
   ]
  },
  {
   "cell_type": "code",
   "execution_count": 72,
   "metadata": {},
   "outputs": [
    {
     "data": {
      "text/plain": [
       "{'HONORATO': 5, 'WANDA': 5, 'BEYONCE': 5, 'LAURA': 5}"
      ]
     },
     "execution_count": 72,
     "metadata": {},
     "output_type": "execute_result"
    }
   ],
   "source": [
    "estudiantes = ('HONORATO','WANDA','BEYONCE','LAURA')\n",
    "d_estudiantes = dict.fromkeys(estudiantes, 5)\n",
    "d_estudiantes"
   ]
  },
  {
   "cell_type": "code",
   "execution_count": 73,
   "metadata": {},
   "outputs": [
    {
     "name": "stdout",
     "output_type": "stream",
     "text": [
      "dict_items([('HONORATO', 5), ('WANDA', 5), ('BEYONCE', 5), ('LAURA', 5)])\n"
     ]
    }
   ],
   "source": [
    "print(d_estudiantes.items())"
   ]
  }
 ],
 "metadata": {
  "kernelspec": {
   "display_name": "Python 3",
   "language": "python",
   "name": "python3"
  },
  "language_info": {
   "codemirror_mode": {
    "name": "ipython",
    "version": 3
   },
   "file_extension": ".py",
   "mimetype": "text/x-python",
   "name": "python",
   "nbconvert_exporter": "python",
   "pygments_lexer": "ipython3",
   "version": "3.6.10"
  }
 },
 "nbformat": 4,
 "nbformat_minor": 2
}
