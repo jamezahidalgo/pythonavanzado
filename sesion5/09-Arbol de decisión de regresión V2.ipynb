{
 "cells": [
  {
   "cell_type": "markdown",
   "metadata": {},
   "source": [
    "# Árboles de decisión\n",
    "\n",
    "Esta variante apunta a generar una versión del ejercicio anterior usando la variable del modelo de la turbina considerando otros aspectos que se habían dejado de lado. Además, se trata de responder a la inquietud surgida respecto de la importancia que le asigna, el modelo, a las características\n",
    "\n",
    "Dado que la variable es categórica entonces se debe transformar.\n",
    "\n",
    "La idea es ver si tenemos resultados distintos"
   ]
  },
  {
   "cell_type": "code",
   "execution_count": 5,
   "metadata": {},
   "outputs": [
    {
     "data": {
      "text/html": [
       "<div>\n",
       "<style scoped>\n",
       "    .dataframe tbody tr th:only-of-type {\n",
       "        vertical-align: middle;\n",
       "    }\n",
       "\n",
       "    .dataframe tbody tr th {\n",
       "        vertical-align: top;\n",
       "    }\n",
       "\n",
       "    .dataframe thead th {\n",
       "        text-align: right;\n",
       "    }\n",
       "</style>\n",
       "<table border=\"1\" class=\"dataframe\">\n",
       "  <thead>\n",
       "    <tr style=\"text-align: right;\">\n",
       "      <th></th>\n",
       "      <th>turbine_capacity</th>\n",
       "      <th>rotor_diameter_m</th>\n",
       "      <th>hub_height_m</th>\n",
       "      <th>commissioning_date</th>\n",
       "      <th>province_territory</th>\n",
       "      <th>model</th>\n",
       "    </tr>\n",
       "  </thead>\n",
       "  <tbody>\n",
       "    <tr>\n",
       "      <th>0</th>\n",
       "      <td>150</td>\n",
       "      <td>23.0</td>\n",
       "      <td>30.0</td>\n",
       "      <td>1993</td>\n",
       "      <td>Alberta</td>\n",
       "      <td>Other</td>\n",
       "    </tr>\n",
       "    <tr>\n",
       "      <th>1</th>\n",
       "      <td>600</td>\n",
       "      <td>44.0</td>\n",
       "      <td>40.0</td>\n",
       "      <td>1997</td>\n",
       "      <td>Alberta</td>\n",
       "      <td>Other</td>\n",
       "    </tr>\n",
       "    <tr>\n",
       "      <th>2</th>\n",
       "      <td>600</td>\n",
       "      <td>44.0</td>\n",
       "      <td>50.0</td>\n",
       "      <td>1998</td>\n",
       "      <td>Alberta</td>\n",
       "      <td>Other</td>\n",
       "    </tr>\n",
       "    <tr>\n",
       "      <th>3</th>\n",
       "      <td>600</td>\n",
       "      <td>44.0</td>\n",
       "      <td>50.0</td>\n",
       "      <td>1998</td>\n",
       "      <td>Alberta</td>\n",
       "      <td>Other</td>\n",
       "    </tr>\n",
       "    <tr>\n",
       "      <th>4</th>\n",
       "      <td>600</td>\n",
       "      <td>44.0</td>\n",
       "      <td>50.0</td>\n",
       "      <td>1998</td>\n",
       "      <td>Alberta</td>\n",
       "      <td>Other</td>\n",
       "    </tr>\n",
       "  </tbody>\n",
       "</table>\n",
       "</div>"
      ],
      "text/plain": [
       "   turbine_capacity  rotor_diameter_m  hub_height_m  commissioning_date  \\\n",
       "0               150              23.0          30.0                1993   \n",
       "1               600              44.0          40.0                1997   \n",
       "2               600              44.0          50.0                1998   \n",
       "3               600              44.0          50.0                1998   \n",
       "4               600              44.0          50.0                1998   \n",
       "\n",
       "  province_territory  model  \n",
       "0            Alberta  Other  \n",
       "1            Alberta  Other  \n",
       "2            Alberta  Other  \n",
       "3            Alberta  Other  \n",
       "4            Alberta  Other  "
      ]
     },
     "execution_count": 5,
     "metadata": {},
     "output_type": "execute_result"
    }
   ],
   "source": [
    "import pandas as pd\n",
    "import matplotlib.pyplot as plt\n",
    "import seaborn as sns\n",
    "import numpy as np\n",
    "from sklearn.metrics import mean_absolute_error, r2_score\n",
    "data_frame = pd.read_csv(\"turbines_df.csv\")\n",
    "data_frame.head()"
   ]
  },
  {
   "cell_type": "code",
   "execution_count": 6,
   "metadata": {},
   "outputs": [
    {
     "data": {
      "text/html": [
       "<div>\n",
       "<style scoped>\n",
       "    .dataframe tbody tr th:only-of-type {\n",
       "        vertical-align: middle;\n",
       "    }\n",
       "\n",
       "    .dataframe tbody tr th {\n",
       "        vertical-align: top;\n",
       "    }\n",
       "\n",
       "    .dataframe thead th {\n",
       "        text-align: right;\n",
       "    }\n",
       "</style>\n",
       "<table border=\"1\" class=\"dataframe\">\n",
       "  <thead>\n",
       "    <tr style=\"text-align: right;\">\n",
       "      <th></th>\n",
       "      <th>turbine_capacity</th>\n",
       "      <th>rotor_diameter_m</th>\n",
       "      <th>hub_height_m</th>\n",
       "      <th>commissioning_date</th>\n",
       "      <th>province_territory</th>\n",
       "      <th>model</th>\n",
       "      <th>model_encoder</th>\n",
       "    </tr>\n",
       "  </thead>\n",
       "  <tbody>\n",
       "    <tr>\n",
       "      <th>0</th>\n",
       "      <td>150</td>\n",
       "      <td>23.0</td>\n",
       "      <td>30.0</td>\n",
       "      <td>1993</td>\n",
       "      <td>Alberta</td>\n",
       "      <td>Other</td>\n",
       "      <td>5</td>\n",
       "    </tr>\n",
       "    <tr>\n",
       "      <th>1</th>\n",
       "      <td>600</td>\n",
       "      <td>44.0</td>\n",
       "      <td>40.0</td>\n",
       "      <td>1997</td>\n",
       "      <td>Alberta</td>\n",
       "      <td>Other</td>\n",
       "      <td>5</td>\n",
       "    </tr>\n",
       "    <tr>\n",
       "      <th>2</th>\n",
       "      <td>600</td>\n",
       "      <td>44.0</td>\n",
       "      <td>50.0</td>\n",
       "      <td>1998</td>\n",
       "      <td>Alberta</td>\n",
       "      <td>Other</td>\n",
       "      <td>5</td>\n",
       "    </tr>\n",
       "    <tr>\n",
       "      <th>3</th>\n",
       "      <td>600</td>\n",
       "      <td>44.0</td>\n",
       "      <td>50.0</td>\n",
       "      <td>1998</td>\n",
       "      <td>Alberta</td>\n",
       "      <td>Other</td>\n",
       "      <td>5</td>\n",
       "    </tr>\n",
       "    <tr>\n",
       "      <th>4</th>\n",
       "      <td>600</td>\n",
       "      <td>44.0</td>\n",
       "      <td>50.0</td>\n",
       "      <td>1998</td>\n",
       "      <td>Alberta</td>\n",
       "      <td>Other</td>\n",
       "      <td>5</td>\n",
       "    </tr>\n",
       "    <tr>\n",
       "      <th>...</th>\n",
       "      <td>...</td>\n",
       "      <td>...</td>\n",
       "      <td>...</td>\n",
       "      <td>...</td>\n",
       "      <td>...</td>\n",
       "      <td>...</td>\n",
       "      <td>...</td>\n",
       "    </tr>\n",
       "    <tr>\n",
       "      <th>6473</th>\n",
       "      <td>660</td>\n",
       "      <td>47.0</td>\n",
       "      <td>50.0</td>\n",
       "      <td>2001</td>\n",
       "      <td>Saskatchewan</td>\n",
       "      <td>Other</td>\n",
       "      <td>5</td>\n",
       "    </tr>\n",
       "    <tr>\n",
       "      <th>6474</th>\n",
       "      <td>660</td>\n",
       "      <td>47.0</td>\n",
       "      <td>50.0</td>\n",
       "      <td>2001</td>\n",
       "      <td>Saskatchewan</td>\n",
       "      <td>Other</td>\n",
       "      <td>5</td>\n",
       "    </tr>\n",
       "    <tr>\n",
       "      <th>6475</th>\n",
       "      <td>660</td>\n",
       "      <td>47.0</td>\n",
       "      <td>50.0</td>\n",
       "      <td>2001</td>\n",
       "      <td>Saskatchewan</td>\n",
       "      <td>Other</td>\n",
       "      <td>5</td>\n",
       "    </tr>\n",
       "    <tr>\n",
       "      <th>6476</th>\n",
       "      <td>150</td>\n",
       "      <td>23.0</td>\n",
       "      <td>30.0</td>\n",
       "      <td>1993</td>\n",
       "      <td>Other</td>\n",
       "      <td>Other</td>\n",
       "      <td>5</td>\n",
       "    </tr>\n",
       "    <tr>\n",
       "      <th>6477</th>\n",
       "      <td>660</td>\n",
       "      <td>47.0</td>\n",
       "      <td>37.0</td>\n",
       "      <td>2000</td>\n",
       "      <td>Other</td>\n",
       "      <td>Other</td>\n",
       "      <td>5</td>\n",
       "    </tr>\n",
       "  </tbody>\n",
       "</table>\n",
       "<p>6478 rows × 7 columns</p>\n",
       "</div>"
      ],
      "text/plain": [
       "      turbine_capacity  rotor_diameter_m  hub_height_m  commissioning_date  \\\n",
       "0                  150              23.0          30.0                1993   \n",
       "1                  600              44.0          40.0                1997   \n",
       "2                  600              44.0          50.0                1998   \n",
       "3                  600              44.0          50.0                1998   \n",
       "4                  600              44.0          50.0                1998   \n",
       "...                ...               ...           ...                 ...   \n",
       "6473               660              47.0          50.0                2001   \n",
       "6474               660              47.0          50.0                2001   \n",
       "6475               660              47.0          50.0                2001   \n",
       "6476               150              23.0          30.0                1993   \n",
       "6477               660              47.0          37.0                2000   \n",
       "\n",
       "     province_territory  model  model_encoder  \n",
       "0               Alberta  Other              5  \n",
       "1               Alberta  Other              5  \n",
       "2               Alberta  Other              5  \n",
       "3               Alberta  Other              5  \n",
       "4               Alberta  Other              5  \n",
       "...                 ...    ...            ...  \n",
       "6473       Saskatchewan  Other              5  \n",
       "6474       Saskatchewan  Other              5  \n",
       "6475       Saskatchewan  Other              5  \n",
       "6476              Other  Other              5  \n",
       "6477              Other  Other              5  \n",
       "\n",
       "[6478 rows x 7 columns]"
      ]
     },
     "execution_count": 6,
     "metadata": {},
     "output_type": "execute_result"
    }
   ],
   "source": [
    "from sklearn.preprocessing import LabelEncoder\n",
    "le = LabelEncoder()\n",
    "data_frame['model_encoder'] = le.fit_transform(data_frame.model)\n",
    "data_frame"
   ]
  },
  {
   "cell_type": "code",
   "execution_count": 7,
   "metadata": {},
   "outputs": [
    {
     "data": {
      "text/plain": [
       "array([ 5,  7,  1,  2, 10,  6,  0,  9,  4,  3,  8])"
      ]
     },
     "execution_count": 7,
     "metadata": {},
     "output_type": "execute_result"
    }
   ],
   "source": [
    "data_frame.model_encoder.unique()"
   ]
  },
  {
   "cell_type": "code",
   "execution_count": 38,
   "metadata": {},
   "outputs": [
    {
     "name": "stdout",
     "output_type": "stream",
     "text": [
      "Precisión del modelo (en entrenamiento): 0.8506190234718503\n",
      "Precisión del modelo (en validación): 0.8526286622769065\n",
      "Coeficiente de determinación: 0.85\n",
      "****\n",
      "MAE in train: 120.44395918864444\n",
      "MSE in train: 235.00018638191395\n",
      "MAE in test: 115.60932332396071\n",
      "RMSE in test: 229.0406747988052\n"
     ]
    }
   ],
   "source": [
    "from sklearn.tree import DecisionTreeRegressor\n",
    "from sklearn.model_selection import train_test_split\n",
    "from sklearn.metrics import mean_squared_error, r2_score\n",
    "\n",
    "X = data_frame.drop(columns = [\"province_territory\", \"model\", \"turbine_capacity\"])\n",
    "y = data_frame.turbine_capacity\n",
    "\n",
    "# Separar los datos de \"train\" en entrenamiento y prueba para probar el modelo\n",
    "X_train, X_test, y_train, y_test = train_test_split(X, y, test_size=0.2, random_state = 29)\n",
    "modelo = DecisionTreeRegressor(max_depth = 5, random_state = 29)\n",
    "\n",
    "# Entrenamiento del modelo\n",
    "modelo.fit(X_train, y_train)\n",
    "\n",
    "# Validación del modelo\n",
    "Y_pred = modelo.predict(X_test)\n",
    "\n",
    "# Evaluación del modelo\n",
    "print('Precisión del modelo (en entrenamiento):', modelo.score(X_train, y_train))\n",
    "print('Precisión del modelo (en validación):', modelo.score(X_test, y_test))\n",
    "print('Coeficiente de determinación: %.2f' % r2_score(y_test, Y_pred))\n",
    "\n",
    "print(\"****\")\n",
    "print('MAE in train:', mean_absolute_error(modelo.predict(X_train), y_train))\n",
    "print('MSE in train:', np.sqrt(mean_squared_error(modelo.predict(X_train), y_train)))\n",
    "print('MAE in test:', mean_absolute_error(Y_pred, y_test))\n",
    "print('RMSE in test:', np.sqrt(mean_squared_error(Y_pred, y_test)))\n",
    "history = [r2_score(y_test, Y_pred)]\n",
    "history_mse_train = [np.sqrt(mean_squared_error(modelo.predict(X_train), y_train))]\n",
    "history_mse_test = [np.sqrt(mean_squared_error(Y_pred, y_test))]"
   ]
  },
  {
   "cell_type": "markdown",
   "metadata": {},
   "source": [
    "## Importancia de las características"
   ]
  },
  {
   "cell_type": "code",
   "execution_count": 25,
   "metadata": {},
   "outputs": [
    {
     "name": "stdout",
     "output_type": "stream",
     "text": [
      "                           0\n",
      "rotor_diameter_m    0.673625\n",
      "commissioning_date  0.152331\n",
      "model_encoder       0.150712\n",
      "hub_height_m        0.023331\n"
     ]
    }
   ],
   "source": [
    "feature_importance = pd.DataFrame(modelo.feature_importances_, index=X_train.columns)\n",
    "print(feature_importance.sort_values(by=0, ascending=False)[:10])"
   ]
  },
  {
   "cell_type": "markdown",
   "metadata": {},
   "source": [
    "## Árbol de decisión SIN hiperparámetros"
   ]
  },
  {
   "cell_type": "code",
   "execution_count": 39,
   "metadata": {},
   "outputs": [
    {
     "name": "stdout",
     "output_type": "stream",
     "text": [
      "Precisión del modelo (en entrenamiento): 0.9899472426707983\n",
      "Precisión del modelo (en validación): 0.9896659838074617\n",
      "Coeficiente de determinación: 0.99\n",
      "****\n",
      "MAE in train: 14.893067415153421\n",
      "MSE in train: 60.96255481501382\n",
      "MAE in test: 14.711119391453472\n",
      "MSE in test: 60.65137772558558\n"
     ]
    }
   ],
   "source": [
    "modelo_shp = DecisionTreeRegressor(random_state = 29)\n",
    "\n",
    "# Entrenamiento del modelo\n",
    "modelo_shp.fit(X_train, y_train)\n",
    "\n",
    "# Validación del modelo\n",
    "Y_pred = modelo_shp.predict(X_test)\n",
    "\n",
    "# Evaluación del modelo\n",
    "print('Precisión del modelo (en entrenamiento):', modelo_shp.score(X_train, y_train))\n",
    "print('Precisión del modelo (en validación):', modelo_shp.score(X_test, y_test))\n",
    "print('Coeficiente de determinación: %.2f' % r2_score(y_test, Y_pred))\n",
    "\n",
    "print(\"****\")\n",
    "print('MAE in train:', mean_absolute_error(modelo_shp.predict(X_train), y_train))\n",
    "print('MSE in train:', np.sqrt(mean_squared_error(modelo_shp.predict(X_train), y_train)))\n",
    "print('MAE in test:', mean_absolute_error(Y_pred, y_test))\n",
    "print('MSE in test:', np.sqrt(mean_squared_error(Y_pred, y_test)))\n",
    "\n",
    "history += [r2_score(y_test, Y_pred)]\n",
    "history_mse_train += [np.sqrt(mean_squared_error(modelo_shp.predict(X_train), y_train))]\n",
    "history_mse_test += [np.sqrt(mean_squared_error(Y_pred, y_test))]"
   ]
  },
  {
   "cell_type": "markdown",
   "metadata": {},
   "source": [
    "### Importancia de las características"
   ]
  },
  {
   "cell_type": "code",
   "execution_count": 27,
   "metadata": {},
   "outputs": [
    {
     "name": "stdout",
     "output_type": "stream",
     "text": [
      "                           0\n",
      "rotor_diameter_m    0.673625\n",
      "commissioning_date  0.152331\n",
      "model_encoder       0.150712\n",
      "hub_height_m        0.023331\n"
     ]
    }
   ],
   "source": [
    "eature_importance = pd.DataFrame(modelo_shp.feature_importances_, index=X_train.columns)\n",
    "print(feature_importance.sort_values(by=0, ascending=False)[:10])"
   ]
  },
  {
   "cell_type": "markdown",
   "metadata": {},
   "source": [
    "## Árbol de decisión usando hiper parámetros\n",
    "\n",
    "En scikit-learn podemos usar varios hiper-parámetros para configurar la forma en que se regularizan los árboles de decisión. \n",
    "\n",
    "Los más usados:\n",
    "\n",
    "+ max_depth: la profundidad máxima del árbol. \n",
    "+ min_samples_split: número mínimo de muestras necesarias antes de dividir este nodo. También se puede expresar en porcentaje.\n",
    "+ min_samples_leaf: número mínimo de muestras que debe haber en un nodo final (hoja). También se puede expresar en porcentaje.\n",
    "+ max_leaf_nodes: número máximo de nodos finales"
   ]
  },
  {
   "cell_type": "code",
   "execution_count": 40,
   "metadata": {},
   "outputs": [
    {
     "name": "stdout",
     "output_type": "stream",
     "text": [
      "Precisión del modelo (en entrenamiento): 0.9837217948986271\n",
      "Precisión del modelo (en validación): 0.9842337842598526\n",
      "Coeficiente de determinación: 0.98\n",
      "****\n",
      "MAE in train: 22.87489781856189\n",
      "MSE in train: 77.57536322522965\n",
      "MAE in test: 21.62255730081868\n",
      "RMSE in test: 74.9151811794363\n"
     ]
    }
   ],
   "source": [
    "modelo_hp = DecisionTreeRegressor(min_samples_split=24, min_samples_leaf=10, max_leaf_nodes=300, \n",
    "                               random_state = 29)\n",
    "\n",
    "# Entrenamiento del modelo\n",
    "modelo_hp.fit(X_train, y_train)\n",
    "\n",
    "# Validación del modelo\n",
    "Y_pred = modelo_hp.predict(X_test)\n",
    "\n",
    "# Evaluación del modelo\n",
    "print('Precisión del modelo (en entrenamiento):', modelo_hp.score(X_train, y_train))\n",
    "print('Precisión del modelo (en validación):', modelo_hp.score(X_test, y_test))\n",
    "print('Coeficiente de determinación: %.2f' % r2_score(y_test, Y_pred))\n",
    "print(\"****\")\n",
    "print('MAE in train:', mean_absolute_error(modelo_hp.predict(X_train), y_train))\n",
    "print('MSE in train:', np.sqrt(mean_squared_error(modelo_hp.predict(X_train), y_train)))\n",
    "print('MAE in test:', mean_absolute_error(Y_pred, y_test))\n",
    "print('RMSE in test:', np.sqrt(mean_squared_error(Y_pred, y_test)))\n",
    "\n",
    "history += [r2_score(y_test, Y_pred)]\n",
    "history_mse_train += [np.sqrt(mean_squared_error(modelo_hp.predict(X_train), y_train))]\n",
    "history_mse_test += [np.sqrt(mean_squared_error(Y_pred, y_test))]"
   ]
  },
  {
   "cell_type": "markdown",
   "metadata": {},
   "source": [
    "## Importancia de las caraterísticas"
   ]
  },
  {
   "cell_type": "code",
   "execution_count": 29,
   "metadata": {},
   "outputs": [
    {
     "name": "stdout",
     "output_type": "stream",
     "text": [
      "                           0\n",
      "rotor_diameter_m    0.677602\n",
      "commissioning_date  0.165483\n",
      "model_encoder       0.133646\n",
      "hub_height_m        0.023269\n"
     ]
    }
   ],
   "source": [
    "feature_importance = pd.DataFrame(modelo_hp.feature_importances_, index=X_train.columns)\n",
    "print(feature_importance.sort_values(by=0, ascending=False)[:10])"
   ]
  },
  {
   "cell_type": "code",
   "execution_count": 51,
   "metadata": {},
   "outputs": [
    {
     "name": "stdout",
     "output_type": "stream",
     "text": [
      "rotor_diameter_m: 0.6776018067360409\n",
      "hub_height_m: 0.02326864827448778\n",
      "commissioning_date: 0.1654834936389406\n",
      "model_encoder: 0.13364605135053076\n"
     ]
    }
   ],
   "source": [
    "# feature_importances_ es un vector con la importancia estimada de cada atributo\n",
    "# Otra forma\n",
    "\n",
    "for name, importance in zip(X_train.columns, modelo_hp.feature_importances_):\n",
    "    print(name + ': ' + str(importance))"
   ]
  },
  {
   "cell_type": "markdown",
   "metadata": {},
   "source": [
    "## Resumen de resultados"
   ]
  },
  {
   "cell_type": "code",
   "execution_count": 45,
   "metadata": {},
   "outputs": [
    {
     "data": {
      "text/html": [
       "<div>\n",
       "<style scoped>\n",
       "    .dataframe tbody tr th:only-of-type {\n",
       "        vertical-align: middle;\n",
       "    }\n",
       "\n",
       "    .dataframe tbody tr th {\n",
       "        vertical-align: top;\n",
       "    }\n",
       "\n",
       "    .dataframe thead th {\n",
       "        text-align: right;\n",
       "    }\n",
       "</style>\n",
       "<table border=\"1\" class=\"dataframe\">\n",
       "  <thead>\n",
       "    <tr style=\"text-align: right;\">\n",
       "      <th></th>\n",
       "      <th>Configuración</th>\n",
       "      <th>R2</th>\n",
       "      <th>MSE TRAIN</th>\n",
       "      <th>MSE TEST</th>\n",
       "    </tr>\n",
       "  </thead>\n",
       "  <tbody>\n",
       "    <tr>\n",
       "      <th>1</th>\n",
       "      <td>Sin HP</td>\n",
       "      <td>0.989666</td>\n",
       "      <td>60.962555</td>\n",
       "      <td>60.651378</td>\n",
       "    </tr>\n",
       "    <tr>\n",
       "      <th>2</th>\n",
       "      <td>Con n HP</td>\n",
       "      <td>0.984234</td>\n",
       "      <td>77.575363</td>\n",
       "      <td>74.915181</td>\n",
       "    </tr>\n",
       "    <tr>\n",
       "      <th>0</th>\n",
       "      <td>Un HP</td>\n",
       "      <td>0.852629</td>\n",
       "      <td>235.000186</td>\n",
       "      <td>229.040675</td>\n",
       "    </tr>\n",
       "  </tbody>\n",
       "</table>\n",
       "</div>"
      ],
      "text/plain": [
       "  Configuración        R2   MSE TRAIN    MSE TEST\n",
       "1        Sin HP  0.989666   60.962555   60.651378\n",
       "2      Con n HP  0.984234   77.575363   74.915181\n",
       "0         Un HP  0.852629  235.000186  229.040675"
      ]
     },
     "execution_count": 45,
     "metadata": {},
     "output_type": "execute_result"
    }
   ],
   "source": [
    "df=pd.DataFrame({'tipo': ['Un HP', 'Sin HP', 'Con n HP'], 'r2': history, 'mse_train' : history_mse_train, 'mse_test' : history_mse_test })\n",
    "df.columns = ['Configuración', 'R2', 'MSE TRAIN', 'MSE TEST'] \n",
    "df.sort_values(by = 'R2', ascending = False)"
   ]
  },
  {
   "cell_type": "code",
   "execution_count": null,
   "metadata": {},
   "outputs": [],
   "source": []
  }
 ],
 "metadata": {
  "kernelspec": {
   "display_name": "Python 3",
   "language": "python",
   "name": "python3"
  },
  "language_info": {
   "codemirror_mode": {
    "name": "ipython",
    "version": 3
   },
   "file_extension": ".py",
   "mimetype": "text/x-python",
   "name": "python",
   "nbconvert_exporter": "python",
   "pygments_lexer": "ipython3",
   "version": "3.6.10"
  }
 },
 "nbformat": 4,
 "nbformat_minor": 4
}
