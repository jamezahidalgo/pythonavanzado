{
 "cells": [
  {
   "cell_type": "markdown",
   "metadata": {},
   "source": [
    "## Explicación matriz de confusión"
   ]
  },
  {
   "cell_type": "code",
   "execution_count": 1,
   "metadata": {},
   "outputs": [],
   "source": [
    "y_real = [1, 1, 1, 1, 1, 0, 0, 0, 0, 0]\n",
    "y_pred = [1, 1, 1, 1, 0, 1, 1, 0, 0, 0]"
   ]
  },
  {
   "cell_type": "markdown",
   "metadata": {},
   "source": [
    "y_real representa nuestra variable objetivo. Hay 5 elementos positivos y 5 negativos. \n",
    "\n",
    "y_pred representa nuestra predicción. De los 5 valores positivos, se han clasificado 4 como tales (verdaderos positivos) y 1 como negativo (falso negativo). \n",
    "\n",
    "Por otro lado, de los 5 valores negativos, se han clasificado 2 como positivos (falsos positivos) y 3 como negativos (verdaderos negativos)."
   ]
  },
  {
   "cell_type": "code",
   "execution_count": 2,
   "metadata": {},
   "outputs": [
    {
     "data": {
      "text/plain": [
       "array([[3, 2],\n",
       "       [1, 4]])"
      ]
     },
     "execution_count": 2,
     "metadata": {},
     "output_type": "execute_result"
    }
   ],
   "source": [
    "from sklearn.metrics import confusion_matrix\n",
    "confusion_matrix(y_real, y_pred)"
   ]
  },
  {
   "cell_type": "markdown",
   "metadata": {},
   "source": [
    "### Distribución de la matriz\n",
    "\n",
    "$\\begin{equation}\n",
    "\\begin{bmatrix}\n",
    "TN & FP\\\\\n",
    "FN & TP\n",
    "\\end{bmatrix}\n",
    "\\end{equation}$"
   ]
  },
  {
   "cell_type": "code",
   "execution_count": 3,
   "metadata": {},
   "outputs": [
    {
     "data": {
      "text/plain": [
       "(3, 2, 1, 4)"
      ]
     },
     "execution_count": 3,
     "metadata": {},
     "output_type": "execute_result"
    }
   ],
   "source": [
    "tn, fp, fn, tp = confusion_matrix(y_real, y_pred).ravel()\n",
    "tn, fp, fn, tp"
   ]
  },
  {
   "cell_type": "markdown",
   "metadata": {},
   "source": [
    "## Métricas asociadas\n",
    "\n",
    "![Metricas asociadas a la matriz](matriz.jpg  \"Mettricas\") \n",
    "\n",
    "<center>\n",
    "(Fuente:https://empresas.blogthinkbig.com/como-interpretar-la-matriz-de-confusion-ejemplo-practico/)\n",
    "</center>"
   ]
  },
  {
   "cell_type": "markdown",
   "metadata": {},
   "source": [
    "## Selección de la medida\n",
    "\n",
    "+ Si lo que interesa es identificar los verdaderos negativos, (evitar falsos positivos) se debe elegir especifidad alta.\n",
    "\n",
    "+ Si lo que interesa es evitar falsos negativos, se debe elegir sensibilidad alta"
   ]
  }
 ],
 "metadata": {
  "kernelspec": {
   "display_name": "Python 3",
   "language": "python",
   "name": "python3"
  },
  "language_info": {
   "codemirror_mode": {
    "name": "ipython",
    "version": 3
   },
   "file_extension": ".py",
   "mimetype": "text/x-python",
   "name": "python",
   "nbconvert_exporter": "python",
   "pygments_lexer": "ipython3",
   "version": "3.6.10"
  }
 },
 "nbformat": 4,
 "nbformat_minor": 4
}
