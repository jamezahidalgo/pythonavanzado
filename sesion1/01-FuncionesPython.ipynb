{
 "cells": [
  {
   "cell_type": "markdown",
   "metadata": {},
   "source": [
    "# Funciones en Pyhton\n"
   ]
  },
  {
   "cell_type": "code",
   "execution_count": 1,
   "metadata": {},
   "outputs": [],
   "source": [
    "# La definición de la función\n",
    "def positivos(numeros):\n",
    "    total = 0\n",
    "    for numero in numeros:\n",
    "        if numero > 0:\n",
    "            total+=1\n",
    "    return total"
   ]
  },
  {
   "cell_type": "code",
   "execution_count": 5,
   "metadata": {},
   "outputs": [
    {
     "name": "stdout",
     "output_type": "stream",
     "text": [
      "6\n"
     ]
    }
   ],
   "source": [
    "# Llamada a la función\n",
    "print(positivos([23,45,21,-2,43,-45,-7, 9, 29]))"
   ]
  },
  {
   "cell_type": "markdown",
   "metadata": {},
   "source": [
    "## Variables globales\n",
    "\n",
    "En el ejemplo anterior de usan variables locales. También se puede trabajar con variables globales."
   ]
  },
  {
   "cell_type": "code",
   "execution_count": 11,
   "metadata": {},
   "outputs": [
    {
     "name": "stdout",
     "output_type": "stream",
     "text": [
      "23 + 3 = 26\n",
      "45 + 3 = 48\n",
      "21 + 3 = 24\n",
      "-2 + 3 = 1\n",
      "43 + 3 = 46\n",
      "-45 + 3 = -42\n",
      "-7 + 3 = -4\n",
      "9 + 3 = 12\n",
      "29 + 3 = 32\n",
      "None\n"
     ]
    }
   ],
   "source": [
    "# La definición de la función\n",
    "def imprimir(numeros):\n",
    "    for numero in numeros:\n",
    "        print(f\"{numero} + {factor} = {numero+factor}\")\n",
    "    return\n",
    "\n",
    "# Llamamos a la función usando la variable total ahora como una variable global\n",
    "# La definición de la función\n",
    "factor = 3\n",
    "print(imprimir([23,45,21,-2,43,-45,-7, 9, 29]))"
   ]
  },
  {
   "cell_type": "markdown",
   "metadata": {},
   "source": [
    "### Devolviendo más de un valor"
   ]
  },
  {
   "cell_type": "code",
   "execution_count": 10,
   "metadata": {},
   "outputs": [
    {
     "name": "stdout",
     "output_type": "stream",
     "text": [
      "2 aparece 3 veces y 6 aparece 1 veces\n"
     ]
    }
   ],
   "source": [
    "def funcion(lista, x, y):\n",
    "    total_x, total_y = 0, 0\n",
    "    for elemento in lista:\n",
    "        if elemento == x:\n",
    "            total_x += 1\n",
    "        if elemento == y:\n",
    "            total_y += 1\n",
    "    return total_x, total_y\n",
    "\n",
    "# Probamos la función\n",
    "v_x, v_y= 2,6\n",
    "t_x, t_y = funcion([2,4,2,5,3,5,2,6], v_x, v_y)\n",
    "print(f\"{v_x} aparece {t_x} veces y {v_y} aparece {t_y} veces\")"
   ]
  },
  {
   "cell_type": "markdown",
   "metadata": {},
   "source": [
    "### Argumentos con valores por defecto"
   ]
  },
  {
   "cell_type": "code",
   "execution_count": 20,
   "metadata": {},
   "outputs": [
    {
     "name": "stdout",
     "output_type": "stream",
     "text": [
      "10\n",
      "-10\n"
     ]
    }
   ],
   "source": [
    "def funcion_x(lista, tipo = 2):\n",
    "    r = 0\n",
    "    for elemento in lista:\n",
    "        if tipo == 1:\n",
    "            r -= elemento\n",
    "        elif tipo == 2:\n",
    "            r += elemento\n",
    "    return r\n",
    "\n",
    "print(funcion_x([1,2,3,4]))\n",
    "print(funcion_x([1,2,3,4], tipo = 1))      "
   ]
  },
  {
   "cell_type": "markdown",
   "metadata": {},
   "source": [
    "## Usando funciones del lenguaje"
   ]
  },
  {
   "cell_type": "code",
   "execution_count": 12,
   "metadata": {},
   "outputs": [
    {
     "data": {
      "text/plain": [
       "3.625"
      ]
     },
     "execution_count": 12,
     "metadata": {},
     "output_type": "execute_result"
    }
   ],
   "source": [
    "import numpy as np\n",
    "lista = [2,4,2,5,3,5,2,6]\n",
    "np.mean(lista)"
   ]
  },
  {
   "cell_type": "code",
   "execution_count": 13,
   "metadata": {},
   "outputs": [
    {
     "name": "stdout",
     "output_type": "stream",
     "text": [
      "MAX = 6 - MIN = 2\n"
     ]
    }
   ],
   "source": [
    "print(f\"MAX = {np.max(lista)} - MIN = {np.min(lista)}\")"
   ]
  },
  {
   "cell_type": "code",
   "execution_count": 15,
   "metadata": {},
   "outputs": [
    {
     "data": {
      "text/plain": [
       "array([ 2., 10.,  6.])"
      ]
     },
     "execution_count": 15,
     "metadata": {},
     "output_type": "execute_result"
    }
   ],
   "source": [
    "datos = [[1,2,3], [5,10,15], [4,6,8]]\n",
    "# Calcula el promedio por filas\n",
    "np.mean(datos, axis = 1)"
   ]
  },
  {
   "cell_type": "code",
   "execution_count": 16,
   "metadata": {},
   "outputs": [
    {
     "data": {
      "text/plain": [
       "array([3.33333333, 6.        , 8.66666667])"
      ]
     },
     "execution_count": 16,
     "metadata": {},
     "output_type": "execute_result"
    }
   ],
   "source": [
    "# Calcula el promedio por columnas\n",
    "np.mean(datos, axis = 0)"
   ]
  },
  {
   "cell_type": "code",
   "execution_count": 17,
   "metadata": {},
   "outputs": [
    {
     "data": {
      "text/plain": [
       "6.0"
      ]
     },
     "execution_count": 17,
     "metadata": {},
     "output_type": "execute_result"
    }
   ],
   "source": [
    "# Calcula el promedio de todos los datos\n",
    "np.mean(datos)"
   ]
  }
 ],
 "metadata": {
  "kernelspec": {
   "display_name": "Python 3",
   "language": "python",
   "name": "python3"
  },
  "language_info": {
   "codemirror_mode": {
    "name": "ipython",
    "version": 3
   },
   "file_extension": ".py",
   "mimetype": "text/x-python",
   "name": "python",
   "nbconvert_exporter": "python",
   "pygments_lexer": "ipython3",
   "version": "3.6.10"
  }
 },
 "nbformat": 4,
 "nbformat_minor": 2
}
